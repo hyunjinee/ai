{
 "cells": [
  {
   "cell_type": "code",
   "id": "initial_id",
   "metadata": {
    "collapsed": true,
    "ExecuteTime": {
     "end_time": "2025-05-01T09:55:01.131984Z",
     "start_time": "2025-05-01T09:53:05.165234Z"
    }
   },
   "source": [
    "# Install dependencies as needed:\n",
    "# pip install kagglehub[pandas-datasets]\n",
    "import kagglehub\n",
    "from kagglehub import KaggleDatasetAdapter\n",
    "path = kagglehub.dataset_download(\"mfrye0/bigpicture-company-dataset\")"
   ],
   "outputs": [
    {
     "name": "stdout",
     "output_type": "stream",
     "text": [
      "Downloading from https://www.kaggle.com/api/v1/datasets/download/mfrye0/bigpicture-company-dataset?dataset_version_number=5...\n"
     ]
    },
    {
     "name": "stderr",
     "output_type": "stream",
     "text": [
      "100%|██████████| 608M/608M [01:26<00:00, 7.41MB/s] "
     ]
    },
    {
     "name": "stdout",
     "output_type": "stream",
     "text": [
      "Extracting files...\n"
     ]
    },
    {
     "name": "stderr",
     "output_type": "stream",
     "text": [
      "\n"
     ]
    }
   ],
   "execution_count": 2
  },
  {
   "metadata": {
    "ExecuteTime": {
     "end_time": "2025-05-01T10:12:53.641405Z",
     "start_time": "2025-05-01T10:11:45.102069Z"
    }
   },
   "cell_type": "code",
   "source": [
    "import pandas as pd\n",
    "jobs = pd.read_csv(f\"{path}/companies-2023-q4-sm.csv\")\n",
    "jobs"
   ],
   "id": "9c282e3b07d79022",
   "outputs": [
    {
     "data": {
      "text/plain": [
       "                                                     handle  \\\n",
       "0                        company/&-shayna-solution-partners   \n",
       "1                 company/'addinall-management-and-systems'   \n",
       "2         company/'baden-regio'-gemeinden-region-baden-w...   \n",
       "3         company/'friends-with-rice'​-stichting-'vriend...   \n",
       "4         company/'i-say'-supported-living-services-limited   \n",
       "...                                                     ...   \n",
       "17154012                   school/循人中学-tsun-jin-high-school   \n",
       "17154013                                    school/武汉城市职业学院   \n",
       "17154014                                      school/神戸女子大学   \n",
       "17154015                                        school/长江大学   \n",
       "17154016                                    school/부산외국어대학교   \n",
       "\n",
       "                                                       name  \\\n",
       "0                                & Shayna solution partners   \n",
       "1                         'Addinall Management and Systems'   \n",
       "2           'Baden Regio', Gemeinden Region Baden-Wettingen   \n",
       "3         'Friends With Rice' / Stichting 'Vrienden Met ...   \n",
       "4                 'I SAY' SUPPORTED LIVING SERVICES LIMITED   \n",
       "...                                                     ...   \n",
       "17154012                          循人中学 Tsun Jin High School   \n",
       "17154013                                           武汉城市职业学院   \n",
       "17154014                            Kobe Women's University   \n",
       "17154015                                 Yangtze University   \n",
       "17154016                Pusan University of Foreign Studies   \n",
       "\n",
       "                      website                            industry     size  \\\n",
       "0               andshayna.com                              retail     1-10   \n",
       "1                         NaN    business consulting and services      NaN   \n",
       "2              baden-regio.ch                                 NaN      NaN   \n",
       "3         vriendenmetrijst.nl  philanthropic fundraising services     1-10   \n",
       "4                         NaN                   consumer services      NaN   \n",
       "...                       ...                                 ...      ...   \n",
       "17154012       tsunjin.edu.my     primary and secondary education   51-200   \n",
       "17154013         whcvc.edu.cn                                 NaN      NaN   \n",
       "17154014        kobe-wu.ac.jp                    higher education      NaN   \n",
       "17154015      yangtzeu.edu.cn                    higher education      NaN   \n",
       "17154016           bufs.ac.kr                    higher education  201-500   \n",
       "\n",
       "                 type  founded          city          state country_code  \n",
       "0         Partnership      NaN           NaN            NaN          NaN  \n",
       "1                 NaN      NaN           NaN            NaN          NaN  \n",
       "2                 NaN      NaN     Wettingen         Aargau           CH  \n",
       "3           Nonprofit   2014.0         Lisse  South Holland           NL  \n",
       "4                 NaN      NaN     Rochester        England           GB  \n",
       "...               ...      ...           ...            ...          ...  \n",
       "17154012  Educational   1913.0  Kuala Lumpur   Kuala Lumpur           MY  \n",
       "17154013          NaN      NaN           NaN            NaN          NaN  \n",
       "17154014  Educational      NaN           NaN            NaN          NaN  \n",
       "17154015  Educational      NaN           NaN            NaN           CN  \n",
       "17154016  Educational   1981.0           NaN            NaN           KR  \n",
       "\n",
       "[17154017 rows x 10 columns]"
      ],
      "text/html": [
       "<div>\n",
       "<style scoped>\n",
       "    .dataframe tbody tr th:only-of-type {\n",
       "        vertical-align: middle;\n",
       "    }\n",
       "\n",
       "    .dataframe tbody tr th {\n",
       "        vertical-align: top;\n",
       "    }\n",
       "\n",
       "    .dataframe thead th {\n",
       "        text-align: right;\n",
       "    }\n",
       "</style>\n",
       "<table border=\"1\" class=\"dataframe\">\n",
       "  <thead>\n",
       "    <tr style=\"text-align: right;\">\n",
       "      <th></th>\n",
       "      <th>handle</th>\n",
       "      <th>name</th>\n",
       "      <th>website</th>\n",
       "      <th>industry</th>\n",
       "      <th>size</th>\n",
       "      <th>type</th>\n",
       "      <th>founded</th>\n",
       "      <th>city</th>\n",
       "      <th>state</th>\n",
       "      <th>country_code</th>\n",
       "    </tr>\n",
       "  </thead>\n",
       "  <tbody>\n",
       "    <tr>\n",
       "      <th>0</th>\n",
       "      <td>company/&amp;-shayna-solution-partners</td>\n",
       "      <td>&amp; Shayna solution partners</td>\n",
       "      <td>andshayna.com</td>\n",
       "      <td>retail</td>\n",
       "      <td>1-10</td>\n",
       "      <td>Partnership</td>\n",
       "      <td>NaN</td>\n",
       "      <td>NaN</td>\n",
       "      <td>NaN</td>\n",
       "      <td>NaN</td>\n",
       "    </tr>\n",
       "    <tr>\n",
       "      <th>1</th>\n",
       "      <td>company/'addinall-management-and-systems'</td>\n",
       "      <td>'Addinall Management and Systems'</td>\n",
       "      <td>NaN</td>\n",
       "      <td>business consulting and services</td>\n",
       "      <td>NaN</td>\n",
       "      <td>NaN</td>\n",
       "      <td>NaN</td>\n",
       "      <td>NaN</td>\n",
       "      <td>NaN</td>\n",
       "      <td>NaN</td>\n",
       "    </tr>\n",
       "    <tr>\n",
       "      <th>2</th>\n",
       "      <td>company/'baden-regio'-gemeinden-region-baden-w...</td>\n",
       "      <td>'Baden Regio', Gemeinden Region Baden-Wettingen</td>\n",
       "      <td>baden-regio.ch</td>\n",
       "      <td>NaN</td>\n",
       "      <td>NaN</td>\n",
       "      <td>NaN</td>\n",
       "      <td>NaN</td>\n",
       "      <td>Wettingen</td>\n",
       "      <td>Aargau</td>\n",
       "      <td>CH</td>\n",
       "    </tr>\n",
       "    <tr>\n",
       "      <th>3</th>\n",
       "      <td>company/'friends-with-rice'​-stichting-'vriend...</td>\n",
       "      <td>'Friends With Rice' / Stichting 'Vrienden Met ...</td>\n",
       "      <td>vriendenmetrijst.nl</td>\n",
       "      <td>philanthropic fundraising services</td>\n",
       "      <td>1-10</td>\n",
       "      <td>Nonprofit</td>\n",
       "      <td>2014.0</td>\n",
       "      <td>Lisse</td>\n",
       "      <td>South Holland</td>\n",
       "      <td>NL</td>\n",
       "    </tr>\n",
       "    <tr>\n",
       "      <th>4</th>\n",
       "      <td>company/'i-say'-supported-living-services-limited</td>\n",
       "      <td>'I SAY' SUPPORTED LIVING SERVICES LIMITED</td>\n",
       "      <td>NaN</td>\n",
       "      <td>consumer services</td>\n",
       "      <td>NaN</td>\n",
       "      <td>NaN</td>\n",
       "      <td>NaN</td>\n",
       "      <td>Rochester</td>\n",
       "      <td>England</td>\n",
       "      <td>GB</td>\n",
       "    </tr>\n",
       "    <tr>\n",
       "      <th>...</th>\n",
       "      <td>...</td>\n",
       "      <td>...</td>\n",
       "      <td>...</td>\n",
       "      <td>...</td>\n",
       "      <td>...</td>\n",
       "      <td>...</td>\n",
       "      <td>...</td>\n",
       "      <td>...</td>\n",
       "      <td>...</td>\n",
       "      <td>...</td>\n",
       "    </tr>\n",
       "    <tr>\n",
       "      <th>17154012</th>\n",
       "      <td>school/循人中学-tsun-jin-high-school</td>\n",
       "      <td>循人中学 Tsun Jin High School</td>\n",
       "      <td>tsunjin.edu.my</td>\n",
       "      <td>primary and secondary education</td>\n",
       "      <td>51-200</td>\n",
       "      <td>Educational</td>\n",
       "      <td>1913.0</td>\n",
       "      <td>Kuala Lumpur</td>\n",
       "      <td>Kuala Lumpur</td>\n",
       "      <td>MY</td>\n",
       "    </tr>\n",
       "    <tr>\n",
       "      <th>17154013</th>\n",
       "      <td>school/武汉城市职业学院</td>\n",
       "      <td>武汉城市职业学院</td>\n",
       "      <td>whcvc.edu.cn</td>\n",
       "      <td>NaN</td>\n",
       "      <td>NaN</td>\n",
       "      <td>NaN</td>\n",
       "      <td>NaN</td>\n",
       "      <td>NaN</td>\n",
       "      <td>NaN</td>\n",
       "      <td>NaN</td>\n",
       "    </tr>\n",
       "    <tr>\n",
       "      <th>17154014</th>\n",
       "      <td>school/神戸女子大学</td>\n",
       "      <td>Kobe Women's University</td>\n",
       "      <td>kobe-wu.ac.jp</td>\n",
       "      <td>higher education</td>\n",
       "      <td>NaN</td>\n",
       "      <td>Educational</td>\n",
       "      <td>NaN</td>\n",
       "      <td>NaN</td>\n",
       "      <td>NaN</td>\n",
       "      <td>NaN</td>\n",
       "    </tr>\n",
       "    <tr>\n",
       "      <th>17154015</th>\n",
       "      <td>school/长江大学</td>\n",
       "      <td>Yangtze University</td>\n",
       "      <td>yangtzeu.edu.cn</td>\n",
       "      <td>higher education</td>\n",
       "      <td>NaN</td>\n",
       "      <td>Educational</td>\n",
       "      <td>NaN</td>\n",
       "      <td>NaN</td>\n",
       "      <td>NaN</td>\n",
       "      <td>CN</td>\n",
       "    </tr>\n",
       "    <tr>\n",
       "      <th>17154016</th>\n",
       "      <td>school/부산외국어대학교</td>\n",
       "      <td>Pusan University of Foreign Studies</td>\n",
       "      <td>bufs.ac.kr</td>\n",
       "      <td>higher education</td>\n",
       "      <td>201-500</td>\n",
       "      <td>Educational</td>\n",
       "      <td>1981.0</td>\n",
       "      <td>NaN</td>\n",
       "      <td>NaN</td>\n",
       "      <td>KR</td>\n",
       "    </tr>\n",
       "  </tbody>\n",
       "</table>\n",
       "<p>17154017 rows × 10 columns</p>\n",
       "</div>"
      ]
     },
     "execution_count": 7,
     "metadata": {},
     "output_type": "execute_result"
    }
   ],
   "execution_count": 7
  },
  {
   "metadata": {
    "ExecuteTime": {
     "end_time": "2025-05-01T10:11:44.741304Z",
     "start_time": "2025-05-01T10:01:57.100220Z"
    }
   },
   "cell_type": "code",
   "source": [
    "import seaborn as sns\n",
    "import matplotlib.pyplot as plt\n",
    "\n",
    "ax = plt.axes()\n",
    "sns.heatmap(jobs.isna().transpose(), ax=ax, cbar=False)\n",
    "\n",
    "plt.xlabel(\"Columns\")\n",
    "plt.ylabel(\"Missing Values\")\n",
    "\n",
    "plt.show()"
   ],
   "id": "9accc9715e0ddad3",
   "outputs": [
    {
     "data": {
      "text/plain": [
       "<Figure size 640x480 with 1 Axes>"
      ],
      "image/png": "[encoded data removed]"
     },
     "metadata": {},
     "output_type": "display_data"
    }
   ],
   "execution_count": 6
  },
  {
   "metadata": {},
   "cell_type": "code",
   "outputs": [],
   "execution_count": null,
   "source": "",
   "id": "9b4b969f013fadf"
  }
 ],
 "metadata": {
  "kernelspec": {
   "display_name": "Python 3",
   "language": "python",
   "name": "python3"
  },
  "language_info": {
   "codemirror_mode": {
    "name": "ipython",
    "version": 2
   },
   "file_extension": ".py",
   "mimetype": "text/x-python",
   "name": "python",
   "nbconvert_exporter": "python",
   "pygments_lexer": "ipython2",
   "version": "2.7.6"
  }
 },
 "nbformat": 4,
 "nbformat_minor": 5
}
