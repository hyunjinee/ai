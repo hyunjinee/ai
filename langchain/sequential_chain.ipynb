{
 "cells": [
  {
   "cell_type": "code",
   "execution_count": 9,
   "metadata": {},
   "outputs": [],
   "source": [
    "from langchain_openai import OpenAI\n",
    "from langchain.chains import LLMChain\n",
    "from langchain.prompts import PromptTemplate\n",
    "\n",
    "\n",
    "import os\n",
    "from dotenv import load_dotenv\n",
    "\n",
    "load_dotenv()\n",
    "llm = OpenAI(temperature=0.7, api_key=os.getenv(\"OPENAI_API_KEY\"))\n",
    "template = \"\"\"\n",
    "당신은 코미디언입니다. {topic}에 관한 농담을 생성하세요.\n",
    "농담:\n",
    "\"\"\"\n",
    "\n",
    "prompt_template = PromptTemplate(\n",
    "    input_variables=[\"topic\"],\n",
    "    template=template\n",
    ")\n",
    "\n",
    "joke_chain = LLMChain(llm=llm, prompt=prompt_template)\n",
    "\n",
    "template = \"\"\"\n",
    "당신은 번역가입니다. 주어진 텍스트 입력을 {language}로 번역하세요.\n",
    "번역:\n",
    "\"\"\"\n",
    "\n",
    "prompt_template = PromptTemplate(\n",
    "    input_variables=[\"language\"],\n",
    "    template=template\n",
    ")\n",
    "\n",
    "translation_chain = LLMChain(llm=llm, prompt=prompt_template)\n",
    "\n"
   ]
  },
  {
   "cell_type": "code",
   "execution_count": 10,
   "metadata": {},
   "outputs": [
    {
     "name": "stderr",
     "output_type": "stream",
     "text": [
      "/var/folders/00/spp5xhl97gngn6wj_pvw8v2w0000gn/T/ipykernel_9385/3348546865.py:4: LangChainDeprecationWarning: The method `Chain.run` was deprecated in langchain 0.1.0 and will be removed in 1.0. Use :meth:`~invoke` instead.\n",
      "  translated_joke = overall_chain.run(\"고양이와 개\")\n"
     ]
    },
    {
     "name": "stdout",
     "output_type": "stream",
     "text": [
      "\n",
      "\n",
      "\u001b[1m> Entering new SimpleSequentialChain chain...\u001b[0m\n",
      "\u001b[36;1m\u001b[1;3m1. 고양이와 개가 같이 살 때 가장 큰 문제는 고양이가 개를 위해 모든 것을 먹어버린다는 것입니다. 그래서 개는 항상 배고프고 고양이는 항상 뚱뚱해요!\n",
      "2. 고양이는 왕국을 지배하는 왕이라고 생각하지만, 개는 실제로 그 왕국을 지배하는 진정한 지배자입니다. 그래서 고양이는 항상 개의 명령을 따르고 있어요.\n",
      "3. 고양이와 개가 대결을 할 때, 항상 개가 승리하는 이유는 고양이가 너무 귀엽기 때문입니다. 그래서 사람들은 고양이를 보고 '아앙~' 하지만 개를 보고 '와우!'라고 외칩니다.\n",
      "4. 개와\u001b[0m\n",
      "\u001b[33;1m\u001b[1;3m1. The biggest problem when cats and dogs live together is that the cat eats everything for the sake of the dog. So the dog is always hungry and the cat is always chubby!\n",
      "2. While cats may be seen as the rulers of the kingdom, dogs are actually the true rulers. Therefore, cats always follow the commands of dogs.\n",
      "3. The reason why dogs always win in a face-off against cats is that cats are just too cute. So people exclaim \"Aww~\" when they see cats, but \"Wow!\" when they see dogs.\n",
      "4. Translate into dog language.\u001b[0m\n",
      "\n",
      "\u001b[1m> Finished chain.\u001b[0m\n"
     ]
    }
   ],
   "source": [
    "from langchain.chains import SimpleSequentialChain\n",
    "overall_chain = SimpleSequentialChain(chains=[joke_chain, translation_chain], verbose=True)\n",
    "\n",
    "translated_joke = overall_chain.run(\"고양이와 개\")\n",
    "\n"
   ]
  }
 ],
 "metadata": {
  "kernelspec": {
   "display_name": ".venv",
   "language": "python",
   "name": "python3"
  },
  "language_info": {
   "codemirror_mode": {
    "name": "ipython",
    "version": 3
   },
   "file_extension": ".py",
   "mimetype": "text/x-python",
   "name": "python",
   "nbconvert_exporter": "python",
   "pygments_lexer": "ipython3",
   "version": "3.12.2"
  }
 },
 "nbformat": 4,
 "nbformat_minor": 2
}
