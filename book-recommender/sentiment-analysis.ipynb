{
 "cells": [
  {
   "cell_type": "code",
   "execution_count": 2,
   "metadata": {},
   "outputs": [],
   "source": [
    "import pandas as pd\n",
    "\n",
    "books = pd.read_csv(\"books_with_categories.csv\")"
   ]
  },
  {
   "cell_type": "code",
   "execution_count": 3,
   "metadata": {},
   "outputs": [
    {
     "name": "stderr",
     "output_type": "stream",
     "text": [
      "/Users/hyunjin/ai/.venv/lib/python3.12/site-packages/tqdm/auto.py:21: TqdmWarning: IProgress not found. Please update jupyter and ipywidgets. See https://ipywidgets.readthedocs.io/en/stable/user_install.html\n",
      "  from .autonotebook import tqdm as notebook_tqdm\n",
      "Device set to use mps\n"
     ]
    },
    {
     "data": {
      "text/plain": [
       "[[{'label': 'joy', 'score': 0.9771687984466553},\n",
       "  {'label': 'surprise', 'score': 0.00852868054062128},\n",
       "  {'label': 'neutral', 'score': 0.005764597561210394},\n",
       "  {'label': 'anger', 'score': 0.004419781267642975},\n",
       "  {'label': 'sadness', 'score': 0.002092391485348344},\n",
       "  {'label': 'disgust', 'score': 0.001611992483958602},\n",
       "  {'label': 'fear', 'score': 0.00041385198710486293}]]"
      ]
     },
     "execution_count": 3,
     "metadata": {},
     "output_type": "execute_result"
    }
   ],
   "source": [
    "from transformers import pipeline\n",
    "classifier = pipeline(\"text-classification\",\n",
    "                      model=\"j-hartmann/emotion-english-distilroberta-base\",\n",
    "                      top_k = None,\n",
    "                      device = \"mps\")\n",
    "classifier(\"I love this!\")"
   ]
  },
  {
   "cell_type": "code",
   "execution_count": 4,
   "metadata": {},
   "outputs": [
    {
     "data": {
      "text/plain": [
       "'A NOVEL THAT READERS and critics have been eagerly anticipating for over a decade, Gilead is an astonishingly imagined story of remarkable lives. John Ames is a preacher, the son of a preacher and the grandson (both maternal and paternal) of preachers. It’s 1956 in Gilead, Iowa, towards the end of the Reverend Ames’s life, and he is absorbed in recording his family’s story, a legacy for the young son he will never see grow up. Haunted by his grandfather’s presence, John tells of the rift between his grandfather and his father: the elder, an angry visionary who fought for the abolitionist cause, and his son, an ardent pacifist. He is troubled, too, by his prodigal namesake, Jack (John Ames) Boughton, his best friend’s lost son who returns to Gilead searching for forgiveness and redemption. Told in John Ames’s joyous, rambling voice that finds beauty, humour and truth in the smallest of life’s details, Gilead is a song of celebration and acceptance of the best and the worst the world has to offer. At its heart is a tale of the sacred bonds between fathers and sons, pitch-perfect in style and story, set to dazzle critics and readers alike.'"
      ]
     },
     "execution_count": 4,
     "metadata": {},
     "output_type": "execute_result"
    }
   ],
   "source": [
    "books[\"description\"][0]"
   ]
  },
  {
   "cell_type": "code",
   "execution_count": 5,
   "metadata": {},
   "outputs": [
    {
     "data": {
      "text/plain": [
       "[[{'label': 'fear', 'score': 0.6548423767089844},\n",
       "  {'label': 'neutral', 'score': 0.16985143721103668},\n",
       "  {'label': 'sadness', 'score': 0.11640842258930206},\n",
       "  {'label': 'surprise', 'score': 0.020700635388493538},\n",
       "  {'label': 'disgust', 'score': 0.019100697711110115},\n",
       "  {'label': 'joy', 'score': 0.015161235816776752},\n",
       "  {'label': 'anger', 'score': 0.003935147542506456}]]"
      ]
     },
     "execution_count": 5,
     "metadata": {},
     "output_type": "execute_result"
    }
   ],
   "source": [
    "classifier(books[\"description\"][0])\n"
   ]
  },
  {
   "cell_type": "code",
   "execution_count": 6,
   "metadata": {},
   "outputs": [
    {
     "data": {
      "text/plain": [
       "[[{'label': 'surprise', 'score': 0.7296029329299927},\n",
       "  {'label': 'neutral', 'score': 0.14038550853729248},\n",
       "  {'label': 'fear', 'score': 0.06816217303276062},\n",
       "  {'label': 'joy', 'score': 0.04794248566031456},\n",
       "  {'label': 'anger', 'score': 0.009156341664493084},\n",
       "  {'label': 'disgust', 'score': 0.0026284747291356325},\n",
       "  {'label': 'sadness', 'score': 0.0021221621427685022}],\n",
       " [{'label': 'neutral', 'score': 0.449371874332428},\n",
       "  {'label': 'disgust', 'score': 0.2735908329486847},\n",
       "  {'label': 'joy', 'score': 0.10908269137144089},\n",
       "  {'label': 'sadness', 'score': 0.09362723678350449},\n",
       "  {'label': 'anger', 'score': 0.040478210896253586},\n",
       "  {'label': 'surprise', 'score': 0.026970140635967255},\n",
       "  {'label': 'fear', 'score': 0.006879065185785294}],\n",
       " [{'label': 'neutral', 'score': 0.6462149024009705},\n",
       "  {'label': 'sadness', 'score': 0.24273455142974854},\n",
       "  {'label': 'disgust', 'score': 0.043422624468803406},\n",
       "  {'label': 'surprise', 'score': 0.028300490230321884},\n",
       "  {'label': 'joy', 'score': 0.014211437664926052},\n",
       "  {'label': 'fear', 'score': 0.014084099791944027},\n",
       "  {'label': 'anger', 'score': 0.011031878180801868}],\n",
       " [{'label': 'fear', 'score': 0.9281688332557678},\n",
       "  {'label': 'anger', 'score': 0.032190486788749695},\n",
       "  {'label': 'neutral', 'score': 0.012808619067072868},\n",
       "  {'label': 'sadness', 'score': 0.00875682570040226},\n",
       "  {'label': 'surprise', 'score': 0.008597852662205696},\n",
       "  {'label': 'disgust', 'score': 0.00843176431953907},\n",
       "  {'label': 'joy', 'score': 0.0010455785086378455}],\n",
       " [{'label': 'sadness', 'score': 0.9671575427055359},\n",
       "  {'label': 'neutral', 'score': 0.015104164369404316},\n",
       "  {'label': 'disgust', 'score': 0.006480592768639326},\n",
       "  {'label': 'fear', 'score': 0.005394003354012966},\n",
       "  {'label': 'surprise', 'score': 0.0022869419772177935},\n",
       "  {'label': 'anger', 'score': 0.0018428885377943516},\n",
       "  {'label': 'joy', 'score': 0.0017338780453428626}],\n",
       " [{'label': 'joy', 'score': 0.9327980279922485},\n",
       "  {'label': 'disgust', 'score': 0.0377170667052269},\n",
       "  {'label': 'neutral', 'score': 0.01589185558259487},\n",
       "  {'label': 'sadness', 'score': 0.006444493308663368},\n",
       "  {'label': 'anger', 'score': 0.0050249723717570305},\n",
       "  {'label': 'surprise', 'score': 0.001581206452101469},\n",
       "  {'label': 'fear', 'score': 0.0005423063994385302}],\n",
       " [{'label': 'joy', 'score': 0.6528698205947876},\n",
       "  {'label': 'neutral', 'score': 0.2542753517627716},\n",
       "  {'label': 'surprise', 'score': 0.06808321177959442},\n",
       "  {'label': 'sadness', 'score': 0.009909017942845821},\n",
       "  {'label': 'disgust', 'score': 0.006512222345918417},\n",
       "  {'label': 'anger', 'score': 0.004821320064365864},\n",
       "  {'label': 'fear', 'score': 0.0035290271043777466}],\n",
       " [{'label': 'neutral', 'score': 0.5494771003723145},\n",
       "  {'label': 'sadness', 'score': 0.11169014871120453},\n",
       "  {'label': 'disgust', 'score': 0.10400662571191788},\n",
       "  {'label': 'surprise', 'score': 0.07876543700695038},\n",
       "  {'label': 'anger', 'score': 0.06413356214761734},\n",
       "  {'label': 'fear', 'score': 0.05136275663971901},\n",
       "  {'label': 'joy', 'score': 0.040564361959695816}]]"
      ]
     },
     "execution_count": 6,
     "metadata": {},
     "output_type": "execute_result"
    }
   ],
   "source": [
    "classifier(books[\"description\"][0].split(\".\"))\n"
   ]
  },
  {
   "cell_type": "code",
   "execution_count": 7,
   "metadata": {},
   "outputs": [],
   "source": [
    "sentences = books[\"description\"][0].split(\".\")\n",
    "predictions = classifier(sentences)"
   ]
  },
  {
   "cell_type": "code",
   "execution_count": 8,
   "metadata": {},
   "outputs": [
    {
     "data": {
      "text/plain": [
       "'A NOVEL THAT READERS and critics have been eagerly anticipating for over a decade, Gilead is an astonishingly imagined story of remarkable lives'"
      ]
     },
     "execution_count": 8,
     "metadata": {},
     "output_type": "execute_result"
    }
   ],
   "source": [
    "\n",
    "sentences[0]"
   ]
  },
  {
   "cell_type": "code",
   "execution_count": 9,
   "metadata": {},
   "outputs": [
    {
     "data": {
      "text/plain": [
       "[{'label': 'surprise', 'score': 0.7296029329299927},\n",
       " {'label': 'neutral', 'score': 0.14038550853729248},\n",
       " {'label': 'fear', 'score': 0.06816217303276062},\n",
       " {'label': 'joy', 'score': 0.04794248566031456},\n",
       " {'label': 'anger', 'score': 0.009156341664493084},\n",
       " {'label': 'disgust', 'score': 0.0026284747291356325},\n",
       " {'label': 'sadness', 'score': 0.0021221621427685022}]"
      ]
     },
     "execution_count": 9,
     "metadata": {},
     "output_type": "execute_result"
    }
   ],
   "source": [
    "predictions[0]\n"
   ]
  },
  {
   "cell_type": "code",
   "execution_count": 10,
   "metadata": {},
   "outputs": [
    {
     "data": {
      "text/plain": [
       "' Haunted by his grandfather’s presence, John tells of the rift between his grandfather and his father: the elder, an angry visionary who fought for the abolitionist cause, and his son, an ardent pacifist'"
      ]
     },
     "execution_count": 10,
     "metadata": {},
     "output_type": "execute_result"
    }
   ],
   "source": [
    "\n",
    "sentences[3]"
   ]
  },
  {
   "cell_type": "code",
   "execution_count": 11,
   "metadata": {},
   "outputs": [
    {
     "data": {
      "text/plain": [
       "[{'label': 'fear', 'score': 0.9281688332557678},\n",
       " {'label': 'anger', 'score': 0.032190486788749695},\n",
       " {'label': 'neutral', 'score': 0.012808619067072868},\n",
       " {'label': 'sadness', 'score': 0.00875682570040226},\n",
       " {'label': 'surprise', 'score': 0.008597852662205696},\n",
       " {'label': 'disgust', 'score': 0.00843176431953907},\n",
       " {'label': 'joy', 'score': 0.0010455785086378455}]"
      ]
     },
     "execution_count": 11,
     "metadata": {},
     "output_type": "execute_result"
    }
   ],
   "source": [
    "predictions[3]\n"
   ]
  },
  {
   "cell_type": "code",
   "execution_count": 12,
   "metadata": {},
   "outputs": [
    {
     "data": {
      "text/plain": [
       "[[{'label': 'surprise', 'score': 0.7296029329299927},\n",
       "  {'label': 'neutral', 'score': 0.14038550853729248},\n",
       "  {'label': 'fear', 'score': 0.06816217303276062},\n",
       "  {'label': 'joy', 'score': 0.04794248566031456},\n",
       "  {'label': 'anger', 'score': 0.009156341664493084},\n",
       "  {'label': 'disgust', 'score': 0.0026284747291356325},\n",
       "  {'label': 'sadness', 'score': 0.0021221621427685022}],\n",
       " [{'label': 'neutral', 'score': 0.449371874332428},\n",
       "  {'label': 'disgust', 'score': 0.2735908329486847},\n",
       "  {'label': 'joy', 'score': 0.10908269137144089},\n",
       "  {'label': 'sadness', 'score': 0.09362723678350449},\n",
       "  {'label': 'anger', 'score': 0.040478210896253586},\n",
       "  {'label': 'surprise', 'score': 0.026970140635967255},\n",
       "  {'label': 'fear', 'score': 0.006879065185785294}],\n",
       " [{'label': 'neutral', 'score': 0.6462149024009705},\n",
       "  {'label': 'sadness', 'score': 0.24273455142974854},\n",
       "  {'label': 'disgust', 'score': 0.043422624468803406},\n",
       "  {'label': 'surprise', 'score': 0.028300490230321884},\n",
       "  {'label': 'joy', 'score': 0.014211437664926052},\n",
       "  {'label': 'fear', 'score': 0.014084099791944027},\n",
       "  {'label': 'anger', 'score': 0.011031878180801868}],\n",
       " [{'label': 'fear', 'score': 0.9281688332557678},\n",
       "  {'label': 'anger', 'score': 0.032190486788749695},\n",
       "  {'label': 'neutral', 'score': 0.012808619067072868},\n",
       "  {'label': 'sadness', 'score': 0.00875682570040226},\n",
       "  {'label': 'surprise', 'score': 0.008597852662205696},\n",
       "  {'label': 'disgust', 'score': 0.00843176431953907},\n",
       "  {'label': 'joy', 'score': 0.0010455785086378455}],\n",
       " [{'label': 'sadness', 'score': 0.9671575427055359},\n",
       "  {'label': 'neutral', 'score': 0.015104164369404316},\n",
       "  {'label': 'disgust', 'score': 0.006480592768639326},\n",
       "  {'label': 'fear', 'score': 0.005394003354012966},\n",
       "  {'label': 'surprise', 'score': 0.0022869419772177935},\n",
       "  {'label': 'anger', 'score': 0.0018428885377943516},\n",
       "  {'label': 'joy', 'score': 0.0017338780453428626}],\n",
       " [{'label': 'joy', 'score': 0.9327980279922485},\n",
       "  {'label': 'disgust', 'score': 0.0377170667052269},\n",
       "  {'label': 'neutral', 'score': 0.01589185558259487},\n",
       "  {'label': 'sadness', 'score': 0.006444493308663368},\n",
       "  {'label': 'anger', 'score': 0.0050249723717570305},\n",
       "  {'label': 'surprise', 'score': 0.001581206452101469},\n",
       "  {'label': 'fear', 'score': 0.0005423063994385302}],\n",
       " [{'label': 'joy', 'score': 0.6528698205947876},\n",
       "  {'label': 'neutral', 'score': 0.2542753517627716},\n",
       "  {'label': 'surprise', 'score': 0.06808321177959442},\n",
       "  {'label': 'sadness', 'score': 0.009909017942845821},\n",
       "  {'label': 'disgust', 'score': 0.006512222345918417},\n",
       "  {'label': 'anger', 'score': 0.004821320064365864},\n",
       "  {'label': 'fear', 'score': 0.0035290271043777466}],\n",
       " [{'label': 'neutral', 'score': 0.5494771003723145},\n",
       "  {'label': 'sadness', 'score': 0.11169014871120453},\n",
       "  {'label': 'disgust', 'score': 0.10400662571191788},\n",
       "  {'label': 'surprise', 'score': 0.07876543700695038},\n",
       "  {'label': 'anger', 'score': 0.06413356214761734},\n",
       "  {'label': 'fear', 'score': 0.05136275663971901},\n",
       "  {'label': 'joy', 'score': 0.040564361959695816}]]"
      ]
     },
     "execution_count": 12,
     "metadata": {},
     "output_type": "execute_result"
    }
   ],
   "source": [
    "predictions"
   ]
  },
  {
   "cell_type": "code",
   "execution_count": 13,
   "metadata": {},
   "outputs": [
    {
     "data": {
      "text/plain": [
       "[{'label': 'anger', 'score': 0.009156341664493084},\n",
       " {'label': 'disgust', 'score': 0.0026284747291356325},\n",
       " {'label': 'fear', 'score': 0.06816217303276062},\n",
       " {'label': 'joy', 'score': 0.04794248566031456},\n",
       " {'label': 'neutral', 'score': 0.14038550853729248},\n",
       " {'label': 'sadness', 'score': 0.0021221621427685022},\n",
       " {'label': 'surprise', 'score': 0.7296029329299927}]"
      ]
     },
     "execution_count": 13,
     "metadata": {},
     "output_type": "execute_result"
    }
   ],
   "source": [
    "sorted(predictions[0], key=lambda x: x[\"label\"])\n"
   ]
  },
  {
   "cell_type": "code",
   "execution_count": 14,
   "metadata": {},
   "outputs": [],
   "source": [
    "import numpy as np\n",
    "\n",
    "emotion_labels = [\"anger\", \"disgust\", \"fear\", \"joy\", \"sadness\", \"surprise\", \"neutral\"]\n",
    "isbn = []\n",
    "emotion_scores = {label: [] for label in emotion_labels}\n",
    "\n",
    "def calculate_max_emotion_scores(predictions):\n",
    "    per_emotion_scores = {label: [] for label in emotion_labels}\n",
    "    for prediction in predictions:\n",
    "        sorted_predictions = sorted(prediction, key=lambda x: x[\"label\"])\n",
    "        for index, label in enumerate(emotion_labels):\n",
    "            per_emotion_scores[label].append(sorted_predictions[index][\"score\"])\n",
    "    return {label: np.max(scores) for label, scores in per_emotion_scores.items()}"
   ]
  },
  {
   "cell_type": "code",
   "execution_count": 18,
   "metadata": {},
   "outputs": [
    {
     "name": "stdout",
     "output_type": "stream",
     "text": [
      "{'anger': 0.06413356214761734, 'disgust': 0.2735908329486847, 'fear': 0.9281688332557678, 'joy': 0.9327980279922485, 'sadness': 0.6462149024009705, 'surprise': 0.9671575427055359, 'neutral': 0.7296029329299927}\n",
      "{'anger': 0.6126182675361633, 'disgust': 0.3482856750488281, 'fear': 0.942527711391449, 'joy': 0.7044214010238647, 'sadness': 0.8879395127296448, 'surprise': 0.11169014871120453, 'neutral': 0.2525451183319092}\n",
      "{'anger': 0.06413356214761734, 'disgust': 0.10400662571191788, 'fear': 0.9723208546638489, 'joy': 0.7672377228736877, 'sadness': 0.5494771003723145, 'surprise': 0.11169014871120453, 'neutral': 0.07876543700695038}\n",
      "{'anger': 0.3514830768108368, 'disgust': 0.15072253346443176, 'fear': 0.36070695519447327, 'joy': 0.2518809139728546, 'sadness': 0.7326862215995789, 'surprise': 0.11169014871120453, 'neutral': 0.07876543700695038}\n",
      "{'anger': 0.08141245692968369, 'disgust': 0.18449492752552032, 'fear': 0.0950433611869812, 'joy': 0.040564361959695816, 'sadness': 0.8843892216682434, 'surprise': 0.47588053345680237, 'neutral': 0.07876543700695038}\n",
      "{'anger': 0.23222514986991882, 'disgust': 0.7271745800971985, 'fear': 0.05136275663971901, 'joy': 0.04337582737207413, 'sadness': 0.6213927268981934, 'surprise': 0.11169014871120453, 'neutral': 0.27190282940864563}\n",
      "{'anger': 0.5381839275360107, 'disgust': 0.1558549404144287, 'fear': 0.7474279999732971, 'joy': 0.8725652098655701, 'sadness': 0.7121947407722473, 'surprise': 0.40799930691719055, 'neutral': 0.07876543700695038}\n",
      "{'anger': 0.06413356214761734, 'disgust': 0.10400662571191788, 'fear': 0.4044959247112274, 'joy': 0.040564361959695816, 'sadness': 0.5494771003723145, 'surprise': 0.8202824592590332, 'neutral': 0.2344881147146225}\n",
      "{'anger': 0.30067023634910583, 'disgust': 0.2794807255268097, 'fear': 0.9155241250991821, 'joy': 0.040564361959695816, 'sadness': 0.8402895331382751, 'surprise': 0.3544585406780243, 'neutral': 0.13561539351940155}\n",
      "{'anger': 0.06413356214761734, 'disgust': 0.17792674899101257, 'fear': 0.05136275663971901, 'joy': 0.040564361959695816, 'sadness': 0.8603722453117371, 'surprise': 0.11169014871120453, 'neutral': 0.07876543700695038}\n"
     ]
    }
   ],
   "source": [
    "for i in range(10):\n",
    "    isbn.append(books[\"isbn13\"][i])\n",
    "    sentences = books[\"description\"][i].split(\".\")\n",
    "    predictions = classifier(sentences)\n",
    "    max_scores = calculate_max_emotion_scores(predictions)\n",
    "    print(max_scores)\n",
    "    for label in emotion_labels:\n",
    "        emotion_scores[label].append(max_scores[label])"
   ]
  },
  {
   "cell_type": "code",
   "execution_count": 16,
   "metadata": {},
   "outputs": [
    {
     "data": {
      "text/plain": [
       "{'anger': [0.06413356214761734,\n",
       "  0.6126182675361633,\n",
       "  0.06413356214761734,\n",
       "  0.3514830768108368,\n",
       "  0.08141245692968369,\n",
       "  0.23222514986991882,\n",
       "  0.5381839275360107,\n",
       "  0.06413356214761734,\n",
       "  0.30067023634910583,\n",
       "  0.06413356214761734],\n",
       " 'disgust': [0.2735908329486847,\n",
       "  0.3482856750488281,\n",
       "  0.10400662571191788,\n",
       "  0.15072253346443176,\n",
       "  0.18449492752552032,\n",
       "  0.7271745800971985,\n",
       "  0.1558549404144287,\n",
       "  0.10400662571191788,\n",
       "  0.2794807255268097,\n",
       "  0.17792674899101257],\n",
       " 'fear': [0.9281688332557678,\n",
       "  0.942527711391449,\n",
       "  0.9723208546638489,\n",
       "  0.36070695519447327,\n",
       "  0.0950433611869812,\n",
       "  0.05136275663971901,\n",
       "  0.7474279999732971,\n",
       "  0.4044959247112274,\n",
       "  0.9155241250991821,\n",
       "  0.05136275663971901],\n",
       " 'joy': [0.9327980279922485,\n",
       "  0.7044214010238647,\n",
       "  0.7672377228736877,\n",
       "  0.2518809139728546,\n",
       "  0.040564361959695816,\n",
       "  0.04337582737207413,\n",
       "  0.8725652098655701,\n",
       "  0.040564361959695816,\n",
       "  0.040564361959695816,\n",
       "  0.040564361959695816],\n",
       " 'sadness': [0.6462149024009705,\n",
       "  0.8879395127296448,\n",
       "  0.5494771003723145,\n",
       "  0.7326862215995789,\n",
       "  0.8843892216682434,\n",
       "  0.6213927268981934,\n",
       "  0.7121947407722473,\n",
       "  0.5494771003723145,\n",
       "  0.8402895331382751,\n",
       "  0.8603722453117371],\n",
       " 'surprise': [0.9671575427055359,\n",
       "  0.11169014871120453,\n",
       "  0.11169014871120453,\n",
       "  0.11169014871120453,\n",
       "  0.47588053345680237,\n",
       "  0.11169014871120453,\n",
       "  0.40799930691719055,\n",
       "  0.8202824592590332,\n",
       "  0.3544585406780243,\n",
       "  0.11169014871120453],\n",
       " 'neutral': [0.7296029329299927,\n",
       "  0.2525451183319092,\n",
       "  0.07876543700695038,\n",
       "  0.07876543700695038,\n",
       "  0.07876543700695038,\n",
       "  0.27190282940864563,\n",
       "  0.07876543700695038,\n",
       "  0.2344881147146225,\n",
       "  0.13561539351940155,\n",
       "  0.07876543700695038]}"
      ]
     },
     "execution_count": 16,
     "metadata": {},
     "output_type": "execute_result"
    }
   ],
   "source": [
    "emotion_scores\n"
   ]
  },
  {
   "cell_type": "code",
   "execution_count": 17,
   "metadata": {},
   "outputs": [
    {
     "name": "stderr",
     "output_type": "stream",
     "text": [
      "100%|██████████| 5197/5197 [12:38<00:00,  6.85it/s]\n"
     ]
    }
   ],
   "source": [
    "from tqdm import tqdm\n",
    "\n",
    "emotion_labels = [\"anger\", \"disgust\", \"fear\", \"joy\", \"sadness\", \"surprise\", \"neutral\"]\n",
    "isbn = []\n",
    "emotion_scores = {label: [] for label in emotion_labels}\n",
    "\n",
    "for i in tqdm(range(len(books))):\n",
    "    isbn.append(books[\"isbn13\"][i])\n",
    "    sentences = books[\"description\"][i].split(\".\")\n",
    "    predictions = classifier(sentences)\n",
    "    max_scores = calculate_max_emotion_scores(predictions)\n",
    "    for label in emotion_labels:\n",
    "        emotion_scores[label].append(max_scores[label])"
   ]
  },
  {
   "cell_type": "code",
   "execution_count": 19,
   "metadata": {},
   "outputs": [],
   "source": [
    "emotions_df = pd.DataFrame(emotion_scores)\n",
    "emotions_df[\"isbn13\"] = isbn"
   ]
  },
  {
   "cell_type": "code",
   "execution_count": 20,
   "metadata": {},
   "outputs": [
    {
     "data": {
      "text/html": [
       "<div>\n",
       "<style scoped>\n",
       "    .dataframe tbody tr th:only-of-type {\n",
       "        vertical-align: middle;\n",
       "    }\n",
       "\n",
       "    .dataframe tbody tr th {\n",
       "        vertical-align: top;\n",
       "    }\n",
       "\n",
       "    .dataframe thead th {\n",
       "        text-align: right;\n",
       "    }\n",
       "</style>\n",
       "<table border=\"1\" class=\"dataframe\">\n",
       "  <thead>\n",
       "    <tr style=\"text-align: right;\">\n",
       "      <th></th>\n",
       "      <th>anger</th>\n",
       "      <th>disgust</th>\n",
       "      <th>fear</th>\n",
       "      <th>joy</th>\n",
       "      <th>sadness</th>\n",
       "      <th>surprise</th>\n",
       "      <th>neutral</th>\n",
       "      <th>isbn13</th>\n",
       "    </tr>\n",
       "  </thead>\n",
       "  <tbody>\n",
       "    <tr>\n",
       "      <th>0</th>\n",
       "      <td>0.064134</td>\n",
       "      <td>0.273591</td>\n",
       "      <td>0.928169</td>\n",
       "      <td>0.932798</td>\n",
       "      <td>0.646215</td>\n",
       "      <td>0.967158</td>\n",
       "      <td>0.729603</td>\n",
       "      <td>9780002005883</td>\n",
       "    </tr>\n",
       "    <tr>\n",
       "      <th>1</th>\n",
       "      <td>0.612618</td>\n",
       "      <td>0.348286</td>\n",
       "      <td>0.942528</td>\n",
       "      <td>0.704421</td>\n",
       "      <td>0.887940</td>\n",
       "      <td>0.111690</td>\n",
       "      <td>0.252545</td>\n",
       "      <td>9780002261982</td>\n",
       "    </tr>\n",
       "    <tr>\n",
       "      <th>2</th>\n",
       "      <td>0.064134</td>\n",
       "      <td>0.104007</td>\n",
       "      <td>0.972321</td>\n",
       "      <td>0.767238</td>\n",
       "      <td>0.549477</td>\n",
       "      <td>0.111690</td>\n",
       "      <td>0.078765</td>\n",
       "      <td>9780006178736</td>\n",
       "    </tr>\n",
       "    <tr>\n",
       "      <th>3</th>\n",
       "      <td>0.351483</td>\n",
       "      <td>0.150723</td>\n",
       "      <td>0.360707</td>\n",
       "      <td>0.251881</td>\n",
       "      <td>0.732686</td>\n",
       "      <td>0.111690</td>\n",
       "      <td>0.078765</td>\n",
       "      <td>9780006280897</td>\n",
       "    </tr>\n",
       "    <tr>\n",
       "      <th>4</th>\n",
       "      <td>0.081412</td>\n",
       "      <td>0.184495</td>\n",
       "      <td>0.095043</td>\n",
       "      <td>0.040564</td>\n",
       "      <td>0.884389</td>\n",
       "      <td>0.475881</td>\n",
       "      <td>0.078765</td>\n",
       "      <td>9780006280934</td>\n",
       "    </tr>\n",
       "    <tr>\n",
       "      <th>...</th>\n",
       "      <td>...</td>\n",
       "      <td>...</td>\n",
       "      <td>...</td>\n",
       "      <td>...</td>\n",
       "      <td>...</td>\n",
       "      <td>...</td>\n",
       "      <td>...</td>\n",
       "      <td>...</td>\n",
       "    </tr>\n",
       "    <tr>\n",
       "      <th>5202</th>\n",
       "      <td>0.232225</td>\n",
       "      <td>0.727175</td>\n",
       "      <td>0.051363</td>\n",
       "      <td>0.043376</td>\n",
       "      <td>0.621393</td>\n",
       "      <td>0.111690</td>\n",
       "      <td>0.271903</td>\n",
       "      <td>9780006380832</td>\n",
       "    </tr>\n",
       "    <tr>\n",
       "      <th>5203</th>\n",
       "      <td>0.538184</td>\n",
       "      <td>0.155855</td>\n",
       "      <td>0.747428</td>\n",
       "      <td>0.872565</td>\n",
       "      <td>0.712195</td>\n",
       "      <td>0.407999</td>\n",
       "      <td>0.078765</td>\n",
       "      <td>9780006470229</td>\n",
       "    </tr>\n",
       "    <tr>\n",
       "      <th>5204</th>\n",
       "      <td>0.064134</td>\n",
       "      <td>0.104007</td>\n",
       "      <td>0.404496</td>\n",
       "      <td>0.040564</td>\n",
       "      <td>0.549477</td>\n",
       "      <td>0.820282</td>\n",
       "      <td>0.234488</td>\n",
       "      <td>9780006472612</td>\n",
       "    </tr>\n",
       "    <tr>\n",
       "      <th>5205</th>\n",
       "      <td>0.300670</td>\n",
       "      <td>0.279481</td>\n",
       "      <td>0.915524</td>\n",
       "      <td>0.040564</td>\n",
       "      <td>0.840290</td>\n",
       "      <td>0.354459</td>\n",
       "      <td>0.135615</td>\n",
       "      <td>9780006482079</td>\n",
       "    </tr>\n",
       "    <tr>\n",
       "      <th>5206</th>\n",
       "      <td>0.064134</td>\n",
       "      <td>0.177927</td>\n",
       "      <td>0.051363</td>\n",
       "      <td>0.040564</td>\n",
       "      <td>0.860372</td>\n",
       "      <td>0.111690</td>\n",
       "      <td>0.078765</td>\n",
       "      <td>9780006483014</td>\n",
       "    </tr>\n",
       "  </tbody>\n",
       "</table>\n",
       "<p>5207 rows × 8 columns</p>\n",
       "</div>"
      ],
      "text/plain": [
       "         anger   disgust      fear       joy   sadness  surprise   neutral  \\\n",
       "0     0.064134  0.273591  0.928169  0.932798  0.646215  0.967158  0.729603   \n",
       "1     0.612618  0.348286  0.942528  0.704421  0.887940  0.111690  0.252545   \n",
       "2     0.064134  0.104007  0.972321  0.767238  0.549477  0.111690  0.078765   \n",
       "3     0.351483  0.150723  0.360707  0.251881  0.732686  0.111690  0.078765   \n",
       "4     0.081412  0.184495  0.095043  0.040564  0.884389  0.475881  0.078765   \n",
       "...        ...       ...       ...       ...       ...       ...       ...   \n",
       "5202  0.232225  0.727175  0.051363  0.043376  0.621393  0.111690  0.271903   \n",
       "5203  0.538184  0.155855  0.747428  0.872565  0.712195  0.407999  0.078765   \n",
       "5204  0.064134  0.104007  0.404496  0.040564  0.549477  0.820282  0.234488   \n",
       "5205  0.300670  0.279481  0.915524  0.040564  0.840290  0.354459  0.135615   \n",
       "5206  0.064134  0.177927  0.051363  0.040564  0.860372  0.111690  0.078765   \n",
       "\n",
       "             isbn13  \n",
       "0     9780002005883  \n",
       "1     9780002261982  \n",
       "2     9780006178736  \n",
       "3     9780006280897  \n",
       "4     9780006280934  \n",
       "...             ...  \n",
       "5202  9780006380832  \n",
       "5203  9780006470229  \n",
       "5204  9780006472612  \n",
       "5205  9780006482079  \n",
       "5206  9780006483014  \n",
       "\n",
       "[5207 rows x 8 columns]"
      ]
     },
     "execution_count": 20,
     "metadata": {},
     "output_type": "execute_result"
    }
   ],
   "source": [
    "emotions_df\n"
   ]
  },
  {
   "cell_type": "code",
   "execution_count": 21,
   "metadata": {},
   "outputs": [],
   "source": [
    "books = pd.merge(books, emotions_df, on = \"isbn13\")\n"
   ]
  },
  {
   "cell_type": "code",
   "execution_count": 22,
   "metadata": {},
   "outputs": [],
   "source": [
    "books.to_csv(\"books_with_emotions.csv\", index = False)"
   ]
  },
  {
   "cell_type": "code",
   "execution_count": null,
   "metadata": {},
   "outputs": [],
   "source": []
  }
 ],
 "metadata": {
  "kernelspec": {
   "display_name": ".venv",
   "language": "python",
   "name": "python3"
  },
  "language_info": {
   "codemirror_mode": {
    "name": "ipython",
    "version": 3
   },
   "file_extension": ".py",
   "mimetype": "text/x-python",
   "name": "python",
   "nbconvert_exporter": "python",
   "pygments_lexer": "ipython3",
   "version": "3.12.8"
  }
 },
 "nbformat": 4,
 "nbformat_minor": 2
}
